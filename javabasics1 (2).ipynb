{
  "nbformat": 4,
  "nbformat_minor": 0,
  "metadata": {
    "colab": {
      "provenance": [],
      "private_outputs": true,
      "collapsed_sections": []
    },
    "kernelspec": {
      "name": "java",
      "display_name": "java"
    }
  },
  "cells": [
    {
      "cell_type": "code",
      "metadata": {
        "id": "DC4pJkyNfOF1"
      },
      "source": [
        "!apt update -q\n",
        "!apt-get install -q openjdk-11-jdk-headless\n",
        "!curl -L https://github.com/SpencerPark/IJava/releases/download/v1.3.0/ijava-1.3.0.zip -o ijava-kernel.zip\n",
        "!unzip -q ijava-kernel.zip -d ijava-kernel && cd ijava-kernel && python3 install.py --sys-prefix\n",
        "!jupyter kernelspec list"
      ],
      "execution_count": null,
      "outputs": []
    },
    {
      "cell_type": "code",
      "source": [],
      "metadata": {
        "id": "tFg1PLKaQtUk"
      },
      "execution_count": null,
      "outputs": []
    },
    {
      "cell_type": "markdown",
      "source": [
        " # Java template for **Colaboratory** _notebooks_\n",
        " ## Fonaments"
      ],
      "metadata": {
        "id": "v9hXfeq_tmoc"
      }
    },
    {
      "cell_type": "code",
      "source": [
        "//ej1\n",
        "byte b0 = 122; byte b1 = 14;\n",
        "b0 + b1\n",
        "//Obtenim com a resultat una variable de tipus byte que és 136, perqué anteriorment hem establit que les variables b0 i b1 eren carácters de tipus byte.\n",
        "//Obtenim com a resultat una variable de tipus int que és 123, perqué anteriorment hem establit que les variables b0 i b1 eren carácters de tipus long, però  després hem establit que la variable r de tipus int, emmagatzemi el resultat de tipus long convertit a tipus int."
      ],
      "metadata": {
        "id": "dzTN5aJ_M45O"
      },
      "execution_count": null,
      "outputs": []
    },
    {
      "cell_type": "code",
      "source": [
        "//ej2\n",
        "char c = 'a';\n",
        "int n = c;\n",
        "short s = c;\n",
        "System.out.println(n);\n",
        "System.out.println(s);\n",
        "//Obtenim un 97, perqué nosaltres hem establit que la n és una variable de tipus int, però  a la vegada diem que n és igual a una variable de tipus char i un int expressa un char acudint al codi ascii per poder expressar lletres com si fosin números, i la lletra a amb codi ascii és 97."
      ],
      "metadata": {
        "id": "JDU5tl3QVmqA"
      },
      "execution_count": null,
      "outputs": []
    },
    {
      "cell_type": "code",
      "source": [
        "//ej3\n",
        "\n",
        "char c = 'a';\n",
        "\n",
        "short s = (short)c;\n",
        "\n",
        "System.out.println(s);\n",
        "//Dona error.\n",
        "//Perqué una variable char permet valors del 0 fin al 255 o del -128 al 127, i la variale short és més amplia, del -32768 al 32767, és a dir, ocupa més espai."
      ],
      "metadata": {
        "id": "9vgqteiOVvFX"
      },
      "execution_count": null,
      "outputs": []
    },
    {
      "cell_type": "code",
      "source": [
        "//ej4\n",
        "char c = 'a';\n",
        "short s = (short) c;\n",
        "int n = c;\n",
        "System.out.print(s);\n",
        "//S'anomena casting. \n",
        "//Obtenim com a resultat 97 una altra vegada.\n",
        "//La variable short utilitza dades numériques com l'integuer, doncs per representar la lletra a de la variable c, ha de recurrir a la taula ascii i veure el número que representa la a, en aquest cas, el 97."
      ],
      "metadata": {
        "id": "Ng_L3VnebRcn"
      },
      "execution_count": null,
      "outputs": []
    },
    {
      "cell_type": "code",
      "source": [
        "short s = (short)32000;\n",
        "short s = (short)35000;\n",
        "System.out.print(s);\n",
        "//Surt -30536\n",
        "//Això passa perqué  lavariable short, només pot ocupar els valors del -32768 al 32767, i la cantitat que está exigint sobrepassa aquest valors,  doncs per compilar això, el programa de 16 bits quan arriba al límit segueix contant però reiniciant la cadena desdel primer valor que és -32768 i segueix sumant els valors restants fins a arribar a la suma total dels valors que és -30536, ja que no pot aribar més denllá de 32767, doncs reinicia la cadena i segueix contant.\n"
      ],
      "metadata": {
        "id": "rlIwvhYSce1m"
      },
      "execution_count": null,
      "outputs": []
    },
    {
      "cell_type": "code",
      "source": [
        "//ej5\n",
        "var v = 5.0;\n",
        "var v0 = 5;\n",
        "var v1 = v + v0;\n",
        "System.out.println(v);\n",
        "System.out.println(v0);\n",
        "System.out.println(v1);\n",
        "\n",
        "-V és de tipus double\n",
        "-V0 és de tipus integuer\n",
        "-V1 és de tipus float perqué V és un float i V0 és un integuer, doncsel programa posará amb antelació el float, ja que\n",
        " ocupa més rang de valors un float que un integuer.\n",
        " "
      ],
      "metadata": {
        "id": "UtC8k7rphTvm"
      },
      "execution_count": null,
      "outputs": []
    },
    {
      "cell_type": "code",
      "source": [
        "//ej6\n",
        "int a= 4 & 4;\n",
        "int b= 4 | 4;\n",
        "int c= 4 ^ 4;\n",
        "int d=~4;\n",
        "System.out.println(a);\n",
        "System.out.println(b);\n",
        "System.out.println(c);\n",
        "System.out.println(d);\n",
        "\n",
        "//Retorna 4.\n",
        "//Aixó passa perquè l'operador & en bitwise, converteix els 2 números a binari i compara la seva composició en bits. Això provoca que \n",
        "//l'operador faci una nova linia de bits tenint en conta si els 1 dels numeros comparats coincideixen o no. Si coincideixen, el programa escriurá un 1 en la mateixa posició\n",
        "//on coincideixen els bits dels 2 nñumeros, si no ho fan, posará un 0, i com el 4 és 00000100, doncs el resultat de la suma binaria será 00000100, és a dir, 4.\n",
        "\n",
        "//Retorna 4.\n",
        "//En l'operador OR, funciona similar, només que si un bit és 1, ja el programa posará 1 en la posició del byte resultant, peró com torna a ser 4, doncs passa aixó:\n",
        "//00000100+00000100=00000100-->4.\n",
        "\n",
        "//Retorna 0.\n",
        "//L'operador XOR retorna 0 si els bit són iguals i 1 si els bits són diferents, i com la suma és 00000100+00000100=00000000, és a dir, dona 0.\n",
        "\n",
        "//Retorna -5. \n",
        "//Aixó es degut a que no s'ha especificat el resultat que vols imprimir, per tant , el programa agafa l'últim resultat, que és -5 i aixó es degut a que \n",
        "//el bitwise funciona com els operadors normals però passant el carácter de tipus int amb binari. Ens diu que agafa el número que seleccionem i el converteix en binari.\n",
        "//Després pren el número següent, el 5 i el passa a negatiu.Això passa perque per l'operador bitwise tot complement de tipus integuer es igual a -(N+1) --> -(4+1)=-5.\n",
        "\n"
      ],
      "metadata": {
        "id": "13lEJYSwhUM9"
      },
      "execution_count": null,
      "outputs": []
    },
    {
      "cell_type": "code",
      "source": [
        "//ej7\n",
        "int a = 4<<2;\n",
        "int b = 4<<28;\n",
        "int c = 4<<29;\n",
        "int d = 4<<30;\n",
        "int e = 4<<31;\n",
        "System.out.println(a);\n",
        "System.out.println(b);\n",
        "System.out.println(c);\n",
        "System.out.println(d);\n",
        "System.out.println(e);\n",
        "\n",
        "//16 \n",
        "//Passa el 4 en bits 2 posicions i aixó és 2 elevat a la 4 que dona 16.\n",
        "//1073741824\n",
        "//Dona aixó perque passes el 4 en bits 28 vegades i aixó és 2 elevat a la 31 poència, per tant, dona aquest resultat.\n",
        "//-2147483648 \n",
        "//El rang máxim y mínim de valors que pot emmagatzemar es veu afectat perque es passa el límit i trna el valor límit psitiu a negatiu.\n",
        "//0\n",
        "//Si passes 30 vergades el 4 en bits cap a l'esquerra, es passá del l'imit i no pot contar els bits, ja que s'a passat del sistema hexadecimal.\n",
        "//0\n",
        "//Si passes 31 vergades el 4 en bits cap a l'esquerra, es passá del l'imit i no pot contar els bits, ja que s'a passat del sistema hexadecimal."
      ],
      "metadata": {
        "id": "6FOUaojwYNZn"
      },
      "execution_count": null,
      "outputs": []
    },
    {
      "cell_type": "code",
      "source": [
        "//ej8\n",
        "char c = 'a', c1 = 1;\n",
        "\n",
        "char c2 =  (char)(c + c1);\n",
        "System.out.println(c2);\n",
        "//Has de fer un casting i definir c2 = (char)(c + c1), i així et donará b."
      ],
      "metadata": {
        "id": "xUdt2U66Q4FY"
      },
      "execution_count": null,
      "outputs": []
    },
    {
      "cell_type": "code",
      "source": [
        "//ej9\n",
        "var h = (float)(4 * 4f + (4.0 + 4));\n",
        "float f = h;\n",
        "System.out.println(f);\n",
        "//Error. Perqué no pots establir una variable float amb un double, ja que el double ocupa més bits que el float, haurás de fer un casting pero convertir el double a float.\n",
        "//var h = (float)(4 * 4f + (4.0 + 4));\n"
      ],
      "metadata": {
        "id": "UUroDzuxoru2"
      },
      "execution_count": null,
      "outputs": []
    },
    {
      "cell_type": "code",
      "source": [
        "//Ej10\n",
        "byte b0 = 4, b1 = -4, b2 = 12;\n",
        "\n",
        "\n",
        "boolean bol1 = b0 == b2 / 3;\n",
        "//boolean bol2 = b0 + b1;\n",
        "boolean bol3 = b0 + b1 > b2;\n",
        "System.out.println(bol1);\n",
        "//System.out.println(bol2);\n",
        "System.out.println(bol3);\n",
        "//Bol1--> True, perqué l'operador \"==\" indica comparació igualitaria, i 4 és el mateix que 12/3\n",
        "//Bol2--> dona error perqué estás definint una variable de tipus boolean amb un resultat de tipus integer i aixó és incompatible\n",
        "//Bol3--> Dona False perqué 4 + (-4) és igual a 0, i l'operador > indica \"ser més gran que\", doncs 0 no és més gran que la variable b2 ya que és 12.\n"
      ],
      "metadata": {
        "id": "pJLj8HMpsHHZ"
      },
      "execution_count": null,
      "outputs": []
    },
    {
      "cell_type": "code",
      "source": [],
      "metadata": {
        "id": "bHSd2Plb_FNg"
      },
      "execution_count": null,
      "outputs": []
    }
  ]
}